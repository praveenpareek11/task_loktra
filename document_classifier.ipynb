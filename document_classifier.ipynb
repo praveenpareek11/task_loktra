{
  "nbformat": 4,
  "nbformat_minor": 0,
  "metadata": {
    "kernelspec": {
      "display_name": "Python 3",
      "language": "python",
      "name": "python3"
    },
    "language_info": {
      "codemirror_mode": {
        "name": "ipython",
        "version": 3
      },
      "file_extension": ".py",
      "mimetype": "text/x-python",
      "name": "python",
      "nbconvert_exporter": "python",
      "pygments_lexer": "ipython3",
      "version": "3.6.6"
    },
    "colab": {
      "name": "document_classifier.ipynb",
      "provenance": [],
      "collapsed_sections": [],
      "include_colab_link": true
    }
  },
  "cells": [
    {
      "cell_type": "markdown",
      "metadata": {
        "id": "view-in-github",
        "colab_type": "text"
      },
      "source": [
        "<a href=\"https://colab.research.google.com/github/praveenpareek11/task_loktra/blob/master/document_classifier.ipynb\" target=\"_parent\"><img src=\"https://colab.research.google.com/assets/colab-badge.svg\" alt=\"Open In Colab\"/></a>"
      ]
    },
    {
      "cell_type": "markdown",
      "metadata": {
        "id": "Uye8m6k3KZyS",
        "colab_type": "text"
      },
      "source": [
        "### Import Dependencies"
      ]
    },
    {
      "cell_type": "code",
      "metadata": {
        "id": "doEr2dzCKZyi",
        "colab_type": "code",
        "colab": {}
      },
      "source": [
        "import re\n",
        "import os\n",
        "import string\n",
        "import Stemmer\n",
        "import pickle\n",
        "import numpy as np\n",
        "\n",
        "# stopwords\n",
        "from nltk.corpus import stopwords"
      ],
      "execution_count": 0,
      "outputs": []
    },
    {
      "cell_type": "code",
      "metadata": {
        "id": "rmLpky0-KZyy",
        "colab_type": "code",
        "colab": {}
      },
      "source": [
        "from sklearn.feature_extraction.text import TfidfVectorizer\n",
        "from sklearn.model_selection import train_test_split\n",
        "from sklearn.ensemble import GradientBoostingClassifier\n",
        "from sklearn.metrics import classification_report"
      ],
      "execution_count": 0,
      "outputs": []
    },
    {
      "cell_type": "markdown",
      "metadata": {
        "id": "dTOSQS1_KZy7",
        "colab_type": "text"
      },
      "source": [
        "### Text Pre-processing"
      ]
    },
    {
      "cell_type": "code",
      "metadata": {
        "id": "GpFFg0DZKZy9",
        "colab_type": "code",
        "colab": {}
      },
      "source": [
        "stemmer = Stemmer.Stemmer('english')\n",
        "stopWords = stopwords.words('english')\n",
        "\n",
        "bullet_set = set(['*', '-', '\\u2022', '\\u2023', '\\u25e6', '\\u2043', '\\u204c', '\\u204d', '\\u2219'])\n",
        "punctuation_set = set(string.punctuation)\n",
        "stopChar = set(list(bullet_set)+list(punctuation_set))\n",
        "stopCharStr = \"\".join(stopChar)\n",
        "translator = str.maketrans(stopCharStr, ' '*len(stopCharStr))"
      ],
      "execution_count": 0,
      "outputs": []
    },
    {
      "cell_type": "code",
      "metadata": {
        "id": "rTDhBGbaKZzE",
        "colab_type": "code",
        "colab": {}
      },
      "source": [
        "def clean_text_tokenizer(text):\n",
        "    # remove line break\n",
        "    text = text.replace(\"\\n\", \" \").lower()\n",
        "    # remove non-ascii char\n",
        "    text = \"\".join([i if ord(i) < 128 else \" \" for i in text])\n",
        "    # remove bullets and punctuation\n",
        "    text = text.translate(translator)\n",
        "    # remove mupltiple space \n",
        "    text = re.sub(\" +\", \" \", text)\n",
        "    # remove stopwords\n",
        "    words = [word for word in text.split() if word not in stopWords]\n",
        "    # stemming\n",
        "    return stemmer.stemWords(words)"
      ],
      "execution_count": 0,
      "outputs": []
    },
    {
      "cell_type": "markdown",
      "metadata": {
        "id": "_qpT9j5wKZzK",
        "colab_type": "text"
      },
      "source": [
        "### Read Training Data"
      ]
    },
    {
      "cell_type": "code",
      "metadata": {
        "id": "pOYH0RwoKZzL",
        "colab_type": "code",
        "colab": {}
      },
      "source": [
        "data = open(\"trainingdata.txt\").read().split(\"\\n\")[1:-1]"
      ],
      "execution_count": 0,
      "outputs": []
    },
    {
      "cell_type": "code",
      "metadata": {
        "id": "39YXXWAtKZzR",
        "colab_type": "code",
        "colab": {}
      },
      "source": [
        "label_list = [i[0] for i in data]\n",
        "text_list = [i[2:].strip() for i in data]"
      ],
      "execution_count": 0,
      "outputs": []
    },
    {
      "cell_type": "code",
      "metadata": {
        "id": "2dmWJki1KZzW",
        "colab_type": "code",
        "colab": {}
      },
      "source": [
        "assert len(label_list)==len(text_list)"
      ],
      "execution_count": 0,
      "outputs": []
    },
    {
      "cell_type": "code",
      "metadata": {
        "id": "f11FLjZRKZzb",
        "colab_type": "code",
        "colab": {},
        "outputId": "d3adf31a-616a-439d-ffbf-23b3f48aa304"
      },
      "source": [
        "print(\"Total Documents: {}\".format(len(text_list)))"
      ],
      "execution_count": 0,
      "outputs": [
        {
          "output_type": "stream",
          "text": [
            "Total Documents: 5485\n"
          ],
          "name": "stdout"
        }
      ]
    },
    {
      "cell_type": "markdown",
      "metadata": {
        "id": "eZezTjxSKZzg",
        "colab_type": "text"
      },
      "source": [
        "### TF-IDF Vectorizer"
      ]
    },
    {
      "cell_type": "code",
      "metadata": {
        "id": "6MoEyr2EKZzi",
        "colab_type": "code",
        "colab": {}
      },
      "source": [
        "# experiment with vectorizer parameters\n",
        "vectorizer = TfidfVectorizer(tokenizer=clean_text_tokenizer, \n",
        "                             ngram_range=(1,3), \n",
        "                             min_df=0.02, \n",
        "                             max_df=0.98)"
      ],
      "execution_count": 0,
      "outputs": []
    },
    {
      "cell_type": "code",
      "metadata": {
        "id": "OFgqa5JfKZzn",
        "colab_type": "code",
        "colab": {}
      },
      "source": [
        "X = vectorizer.fit_transform(text_list)"
      ],
      "execution_count": 0,
      "outputs": []
    },
    {
      "cell_type": "code",
      "metadata": {
        "id": "aPksj1JfKZzr",
        "colab_type": "code",
        "colab": {},
        "outputId": "bc04a22d-b6b4-4b45-ae88-9eb4648df45b"
      },
      "source": [
        "print(\"Matrix Shape: {}\".format(str(X.shape)))"
      ],
      "execution_count": 0,
      "outputs": [
        {
          "output_type": "stream",
          "text": [
            "Matrix Shape: (5485, 691)\n"
          ],
          "name": "stdout"
        }
      ]
    },
    {
      "cell_type": "code",
      "metadata": {
        "id": "f-mEicbyKZzv",
        "colab_type": "code",
        "colab": {}
      },
      "source": [
        "y = np.array(label_list)"
      ],
      "execution_count": 0,
      "outputs": []
    },
    {
      "cell_type": "markdown",
      "metadata": {
        "id": "V5kUtLDjKZzz",
        "colab_type": "text"
      },
      "source": [
        "### Train Valid Split"
      ]
    },
    {
      "cell_type": "code",
      "metadata": {
        "id": "XaC7BkCWKZz0",
        "colab_type": "code",
        "colab": {}
      },
      "source": [
        "X_train, X_valid, y_train, y_valid = train_test_split(X, y, test_size=0.20, random_state=42)"
      ],
      "execution_count": 0,
      "outputs": []
    },
    {
      "cell_type": "markdown",
      "metadata": {
        "id": "PIThNrjbKZz4",
        "colab_type": "text"
      },
      "source": [
        "### Define Gradient Boosting Classifier"
      ]
    },
    {
      "cell_type": "code",
      "metadata": {
        "id": "H5xKHWlPKZz6",
        "colab_type": "code",
        "colab": {}
      },
      "source": [
        "# experiement with different classifiers\n",
        "gbc = GradientBoostingClassifier(verbose=1)"
      ],
      "execution_count": 0,
      "outputs": []
    },
    {
      "cell_type": "code",
      "metadata": {
        "id": "OEEN7QL7KZz-",
        "colab_type": "code",
        "colab": {},
        "outputId": "3fe8c69b-0991-4ab9-c1be-6812387a3c15"
      },
      "source": [
        "gbc.fit(X_train, y_train)"
      ],
      "execution_count": 0,
      "outputs": [
        {
          "output_type": "stream",
          "text": [
            "      Iter       Train Loss   Remaining Time \n",
            "         1        4083.7320           31.18s\n",
            "         2        3534.7335           31.36s\n",
            "         3        3121.7482           31.06s\n",
            "         4        2784.3658           30.84s\n",
            "         5        2478.2923           30.53s\n",
            "         6        2249.8527           30.26s\n",
            "         7        2041.1772           29.93s\n",
            "         8        1867.1168           29.58s\n",
            "         9        1717.6471           29.26s\n",
            "        10        1578.3760           28.92s\n",
            "        20         829.6136           25.68s\n",
            "        30         555.3787           22.45s\n",
            "        40         414.3608           19.15s\n",
            "        50         335.8983           15.94s\n",
            "        60         283.2168           12.72s\n",
            "        70         244.1038            9.52s\n",
            "        80         215.3740            6.34s\n",
            "        90         189.8999            3.17s\n",
            "       100         168.7094            0.00s\n"
          ],
          "name": "stdout"
        },
        {
          "output_type": "execute_result",
          "data": {
            "text/plain": [
              "GradientBoostingClassifier(criterion='friedman_mse', init=None,\n",
              "                           learning_rate=0.1, loss='deviance', max_depth=3,\n",
              "                           max_features=None, max_leaf_nodes=None,\n",
              "                           min_impurity_decrease=0.0, min_impurity_split=None,\n",
              "                           min_samples_leaf=1, min_samples_split=2,\n",
              "                           min_weight_fraction_leaf=0.0, n_estimators=100,\n",
              "                           n_iter_no_change=None, presort='auto',\n",
              "                           random_state=None, subsample=1.0, tol=0.0001,\n",
              "                           validation_fraction=0.1, verbose=1,\n",
              "                           warm_start=False)"
            ]
          },
          "metadata": {
            "tags": []
          },
          "execution_count": 41
        }
      ]
    },
    {
      "cell_type": "markdown",
      "metadata": {
        "id": "voMYDR8RKZ0D",
        "colab_type": "text"
      },
      "source": [
        "### Model Evalution"
      ]
    },
    {
      "cell_type": "code",
      "metadata": {
        "id": "qmTvNSX7KZ0F",
        "colab_type": "code",
        "colab": {},
        "outputId": "78750fe8-fe25-4514-f83c-d0606afee3ed"
      },
      "source": [
        "gbc.score(X_valid, y_valid)"
      ],
      "execution_count": 0,
      "outputs": [
        {
          "output_type": "execute_result",
          "data": {
            "text/plain": [
              "0.9361896080218779"
            ]
          },
          "metadata": {
            "tags": []
          },
          "execution_count": 42
        }
      ]
    },
    {
      "cell_type": "markdown",
      "metadata": {
        "id": "Fj6jTy5SKZ0J",
        "colab_type": "text"
      },
      "source": [
        "##### Classification Report on Validation Data"
      ]
    },
    {
      "cell_type": "code",
      "metadata": {
        "id": "SAN5OAKrKZ0K",
        "colab_type": "code",
        "colab": {},
        "outputId": "efb719b8-51b1-4970-8a0a-d36b2f98c603"
      },
      "source": [
        "y_pred = gbc.predict(X_valid)\n",
        "print(classification_report(y_valid, y_pred))"
      ],
      "execution_count": 0,
      "outputs": [
        {
          "output_type": "stream",
          "text": [
            "              precision    recall  f1-score   support\n",
            "\n",
            "           1       0.98      0.96      0.97       556\n",
            "           2       0.89      0.98      0.93       323\n",
            "           3       0.96      0.91      0.93        54\n",
            "           4       0.78      0.70      0.74        20\n",
            "           5       0.50      0.22      0.31         9\n",
            "           6       0.93      0.81      0.87        53\n",
            "           7       0.91      0.82      0.86        38\n",
            "           8       0.88      0.86      0.87        44\n",
            "\n",
            "    accuracy                           0.94      1097\n",
            "   macro avg       0.85      0.78      0.81      1097\n",
            "weighted avg       0.94      0.94      0.93      1097\n",
            "\n"
          ],
          "name": "stdout"
        }
      ]
    }
  ]
}